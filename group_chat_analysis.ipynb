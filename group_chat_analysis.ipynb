{
 "cells": [
  {
   "cell_type": "markdown",
   "metadata": {},
   "source": [
    "### Imports"
   ]
  },
  {
   "cell_type": "code",
   "execution_count": null,
   "metadata": {},
   "outputs": [],
   "source": [
    "import pandas as pd\n",
    "import json\n",
    "import pandas as pd\n",
    "import matplotlib.pyplot as plt\n",
    "plt.style.use('seaborn')\n",
    "import time\n",
    "import numpy as np\n",
    "\n",
    "import os\n",
    "\n",
    "from datetime import datetime, timedelta"
   ]
  },
  {
   "cell_type": "markdown",
   "metadata": {},
   "source": [
    "### Take in a filepath to a .json of Facebook chat data"
   ]
  },
  {
   "cell_type": "code",
   "execution_count": null,
   "metadata": {},
   "outputs": [],
   "source": [
    "# user inputs which file he wants to analyze\n",
    "file_path = input(\"enter filepath of FB chat .json data : \")\n",
    "\n",
    "with open(file_path) as f:\n",
    "    raw = json.load(f)\n",
    "\n",
    "# three columns I want in my Pandas DF\n",
    "senders_list = []\n",
    "timestamps_list = []\n",
    "contents_list = []\n",
    "\n",
    "# clean .json\n",
    "for x in reversed(raw['messages']):\n",
    "    if 'content' in x:\n",
    "        senders_list.append(x['sender_name'])\n",
    "        timestamps_list.append(x['timestamp_ms'])\n",
    "        contents_list.append(x['content'])\n",
    "\n",
    "\n",
    "# .json to dict\n",
    "df = {'name': senders_list, 'timestamp' : timestamps_list, 'message': contents_list}\n",
    "\n",
    "# dict to Pandas DF\n",
    "clean = pd.DataFrame(data=df)\n",
    "\n",
    "# saving a .csv of cleaned DF into different folder and then reading in back in\n",
    "# not sure why to be honest\n",
    "clean.to_csv('clean_csv_files/{}.csv'.format(file_path.split('/', 8)[7]))\n",
    "\n",
    "data = pd.read_csv('clean_csv_files/{}.csv'.format(file_path.split('/', 8)[7]))\n",
    "\n",
    "# turning timestamp into datatime object and subtracting 8 hours, since we are in California\n",
    "data['date_time'] = pd.to_datetime(data['timestamp'], unit='ms')- timedelta(hours=8, minutes=0)\n",
    "\n",
    "# making a specific column for hour so I can count number of messages per hour of the day\n",
    "hours = []\n",
    "for x in data.date_time:\n",
    "    hours.append(x.hour)\n",
    "\n",
    "data['hour'] = hours"
   ]
  },
  {
   "cell_type": "markdown",
   "metadata": {},
   "source": [
    "## Messages by Hour of Day"
   ]
  },
  {
   "cell_type": "code",
   "execution_count": null,
   "metadata": {
    "scrolled": false
   },
   "outputs": [],
   "source": [
    "def messages_by_hour():\n",
    "    fig, ax = plt.subplots(figsize=(15, 5))\n",
    "    f = data.hour.value_counts().sort_index().to_list()\n",
    "    x = list(range(24))\n",
    "    y = f\n",
    "    ax.bar(x, y, color = 'purple')\n",
    "    ax.set_title(\"Messages by Hour of Day -- {}\".format(file_path.split('/', 8)[7].split('_')[0].upper()))\n",
    "    ax.set_ylabel(\"# of Messages\")\n",
    "    ax.set_xlabel(\"Hour of Day\")"
   ]
  },
  {
   "cell_type": "markdown",
   "metadata": {},
   "source": [
    "## Shares of Messages by User"
   ]
  },
  {
   "cell_type": "code",
   "execution_count": null,
   "metadata": {},
   "outputs": [],
   "source": [
    "# turns a dictionary into a pie chart\n",
    "def homemade_pie_with_name(dictionary, title, fig_w=13, fig_h=10):\n",
    "    fig, ax = plt.subplots(figsize=(fig_w, fig_h))\n",
    "    names = []\n",
    "    counts = []\n",
    "    for name, count in zip(dictionary.keys(), dictionary.values()):\n",
    "        names.append(name)\n",
    "        counts.append(count)\n",
    "    \n",
    "    out = ax.pie(counts, labels=names, autopct='%1.2f%%', shadow= True)\n",
    "    ax.set_title(title)\n",
    "    \n",
    "\n",
    "    return out"
   ]
  },
  {
   "cell_type": "markdown",
   "metadata": {},
   "source": [
    "## Message Counts per User by Time Slot"
   ]
  },
  {
   "cell_type": "code",
   "execution_count": null,
   "metadata": {},
   "outputs": [],
   "source": [
    "# splits the day into 4 six-hour timeslots and counts messages per person in each of those timeslots\n",
    "def messages_by_timeslot():\n",
    "    zero_to_six = data.loc[(data['hour']>=0) & (data['hour']< 6)] # midnight to 6 AM\n",
    "    six_to_twelve = data.loc[(data['hour']>=6) & (data['hour']< 12)] # 6 AM to noon\n",
    "    noon_to_six = data.loc[(data['hour']>=12) & (data['hour']< 18)] # noon to  6 PM\n",
    "    six_to_midnight = data.loc[(data['hour']>=18) & (data['hour']< 24)] #6 PM to midnight\n",
    "\n",
    "    first_quarter = zero_to_six['name'].value_counts().to_dict()\n",
    "    second_quarter = six_to_twelve['name'].value_counts().to_dict()\n",
    "    third_quarter = noon_to_six['name'].value_counts().to_dict()\n",
    "    fourth_quarter = six_to_midnight['name'].value_counts().to_dict()\n",
    "\n",
    "    red = \"\\033[1;31m\"\n",
    "    blue = \"\\033[1;34m\"\n",
    "    green = \"\\033[1;32m\"\n",
    "    purple = \"\\033[0;35m\" \n",
    "    off = \"\\[\\033[0m\\]\"\n",
    "\n",
    "    print(purple, \"Number of Messages from\", \"12AM to 6AM -- {}\".format(file_path.split('/', 8)[7].split('_')[0].upper()))\n",
    "    print('--------------------------------------')\n",
    "\n",
    "    for key in first_quarter.keys():\n",
    "        print (key, purple, first_quarter[key])\n",
    "\n",
    "    print()\n",
    "\n",
    "    print(blue, \"Number of Messages from\", \"6AM to 12PM -- {}\".format(file_path.split('/', 8)[7].split('_')[0].upper()))\n",
    "    print('--------------------------------------')\n",
    "\n",
    "\n",
    "    for key in second_quarter.keys():\n",
    "        print (key, blue, second_quarter[key])\n",
    "\n",
    "    print()\n",
    "\n",
    "    print(green, \"Number of Messages from\", \"12PM to 6PM -- {}\".format(file_path.split('/', 8)[7].split('_')[0].upper()))\n",
    "    print('--------------------------------------')\n",
    "\n",
    "\n",
    "\n",
    "    for key in third_quarter.keys():\n",
    "        print (key, green, third_quarter[key])\n",
    "\n",
    "\n",
    "    print()\n",
    "\n",
    "    print(red, \"Number of Messages from\", \"6PM to 12AM -- {}\".format(file_path.split('/', 8)[7].split('_')[0].upper()))\n",
    "    print('--------------------------------------')\n",
    "\n",
    "\n",
    "\n",
    "    for key in fourth_quarter.keys():\n",
    "        print(key, red, fourth_quarter[key])\n"
   ]
  },
  {
   "cell_type": "markdown",
   "metadata": {},
   "source": [
    "## Total Messages by User Over Time"
   ]
  },
  {
   "cell_type": "code",
   "execution_count": null,
   "metadata": {},
   "outputs": [],
   "source": [
    "def totals_over_time():\n",
    "    partipants = raw['participants']\n",
    "    names = []\n",
    "    for x in partipants:\n",
    "        names.append(x['name'].replace(\" \", \"\").lower())\n",
    "\n",
    "    dict_of_totals = {k:[0] for k in names}\n",
    "\n",
    "    for person in data.name:\n",
    "        list_name = person.replace(\" \", \"\").lower()\n",
    "        for k, v in dict_of_totals.items():\n",
    "            if k != list_name:\n",
    "                v.append(v[-1])\n",
    "            else:\n",
    "                v.append(v[-1]+1)\n",
    "\n",
    "    fig, ax = plt.subplots(figsize=(15, 10))\n",
    "\n",
    "    import random\n",
    "    \n",
    "    list_of_colors = ['#ff0000', '#ffa500', '#ffff00', '#008000', '#0000ff', '#4b0082', '#ee82ee', '#fed8b1', '#FDB927', '#39FF14', '#87ceeb', '#000000']\n",
    "\n",
    "    for key, value in dict_of_totals.items():\n",
    "        x = data.date_time\n",
    "        y = value[:-1]\n",
    "\n",
    "        hue = list_of_colors[random.randint(0,11)]\n",
    "        \n",
    "        ax.plot(x, y, label=key, color=hue)\n",
    "\n",
    "    ax.legend()\n",
    "    ax.set_title(\"Total Messages by User Over Time -- {}\".format(file_path.split('/', 8)[7].split('_')[0].upper()))\n",
    "    ax.set_ylabel(\"Total Messages\")\n",
    "    ax.set_xlabel(\"Date\")"
   ]
  },
  {
   "cell_type": "code",
   "execution_count": null,
   "metadata": {},
   "outputs": [],
   "source": [
    "messages_by_hour()\n",
    "plt.savefig('images/msg_by_hour_of_day.png')"
   ]
  },
  {
   "cell_type": "code",
   "execution_count": null,
   "metadata": {},
   "outputs": [],
   "source": [
    "totals = data['name'].value_counts().to_dict()\n",
    "homemade_pie_with_name(totals, \"Shares of Messages by User -- {}\".format(file_path.split('/', 8)[7].split('_')[0].upper()));\n",
    "plt.savefig('images/share_of_msg_per_user.png')"
   ]
  },
  {
   "cell_type": "code",
   "execution_count": null,
   "metadata": {},
   "outputs": [],
   "source": [
    "messages_by_timeslot()"
   ]
  },
  {
   "cell_type": "code",
   "execution_count": null,
   "metadata": {},
   "outputs": [],
   "source": [
    "totals_over_time()\n",
    "plt.savefig('images/msg_totals_over_time.png')"
   ]
  },
  {
   "cell_type": "code",
   "execution_count": null,
   "metadata": {},
   "outputs": [],
   "source": []
  }
 ],
 "metadata": {
  "kernelspec": {
   "display_name": "Python 3",
   "language": "python",
   "name": "python3"
  },
  "language_info": {
   "codemirror_mode": {
    "name": "ipython",
    "version": 3
   },
   "file_extension": ".py",
   "mimetype": "text/x-python",
   "name": "python",
   "nbconvert_exporter": "python",
   "pygments_lexer": "ipython3",
   "version": "3.8.2"
  }
 },
 "nbformat": 4,
 "nbformat_minor": 4
}
